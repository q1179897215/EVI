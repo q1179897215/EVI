{
 "cells": [
  {
   "cell_type": "code",
   "execution_count": null,
   "metadata": {},
   "outputs": [],
   "source": [
    "# batch_type fr\n",
    "field_dims = \"9  4  7  2 20  7 50  8  8  2  2  2  2  2  2  2\"\n",
    "numerical_num = 63\n",
    "field_dims.split()\n",
    "\n",
    "\n",
    "def get_list(l):\n",
    "    a = l.split()\n",
    "    return [int(a[i]) for i in range(len(a))]\n",
    "\n",
    "\n",
    "get_list(field_dims)"
   ]
  },
  {
   "cell_type": "code",
   "execution_count": null,
   "metadata": {},
   "outputs": [],
   "source": [
    "# batch_type nl\n",
    "field_dims: \" 9  4  7  2 20  7 50  8  8  2  2  2  2  2  2  2\"\n",
    "\n",
    "get_list(field_dims)"
   ]
  },
  {
   "cell_type": "markdown",
   "metadata": {},
   "source": []
  },
  {
   "cell_type": "code",
   "execution_count": null,
   "metadata": {},
   "outputs": [],
   "source": [
    "# batch_type es\n",
    "field_dims = \"8  4  7  2 19  7 50  8  8  2  2  2  2  2  2  2\"\n",
    "get_list(field_dims)"
   ]
  },
  {
   "cell_type": "code",
   "execution_count": null,
   "metadata": {},
   "outputs": [],
   "source": [
    "# batch_type us\n",
    "field_dims = \"10  4  7  2 21  7 50  8  8  2  2  2  2  2  2  2\"\n",
    "get_list(field_dims)"
   ]
  },
  {
   "cell_type": "code",
   "execution_count": null,
   "metadata": {},
   "outputs": [],
   "source": [
    "import numpy as np\n",
    "import tensorflow as tf\n",
    "\n",
    "y_label = np.array([10, 4, 7, 2, 21, 7, 50, 8, 8, 2, 2, 2, 2, 2, 2, 2]) * 0.01\n",
    "y_pred = np.array([10, 4, 7, 2, 21, 7, 50, 8, 8, 2, 2, 2, 2, 2, 2, 2]) * 0.01 + 0.001\n",
    "# convert numpy array to tensor\n",
    "y_label = tf.convert_to_tensor(y_label, dtype=tf.float32)\n",
    "y_pred = tf.convert_to_tensor(y_pred, dtype=tf.float32)\n",
    "# stack y_label with 1-y_label\n",
    "y_label_stack = tf.stack([y_label, 1 - y_label], axis=1)\n",
    "y_pred_stack = tf.stack([y_pred, 1 - y_pred], axis=1)\n",
    "\n",
    "# print(tf.keras.backend.eval(y_label))\n",
    "# print(tf.keras.backend.eval(y_pred))\n",
    "kl = tf.keras.losses.KLDivergence(reduction=\"sum\")\n",
    "kl_loss = kl(y_label, y_pred)\n",
    "kl_loss_stack = kl(y_label_stack, y_pred_stack)\n",
    "print(tf.keras.backend.eval(kl_loss))\n",
    "print(tf.keras.backend.eval(kl_loss_stack))\n",
    "\n",
    "# # print y_label's value\n",
    "# print(y_label)"
   ]
  }
 ],
 "metadata": {
  "kernelspec": {
   "display_name": "random_tf",
   "language": "python",
   "name": "python3"
  },
  "language_info": {
   "codemirror_mode": {
    "name": "ipython",
    "version": 3
   },
   "file_extension": ".py",
   "mimetype": "text/x-python",
   "name": "python",
   "nbconvert_exporter": "python",
   "pygments_lexer": "ipython3",
   "version": "3.7.12"
  }
 },
 "nbformat": 4,
 "nbformat_minor": 2
}
